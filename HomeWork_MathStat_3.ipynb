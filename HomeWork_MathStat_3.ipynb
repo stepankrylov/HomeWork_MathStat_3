{
 "cells": [
  {
   "cell_type": "code",
   "execution_count": 16,
   "metadata": {},
   "outputs": [],
   "source": [
    "import numpy as np\n",
    "import pandas as pd\n",
    "from math import factorial"
   ]
  },
  {
   "cell_type": "markdown",
   "metadata": {},
   "source": [
    "#### Задача №1"
   ]
  },
  {
   "cell_type": "code",
   "execution_count": 17,
   "metadata": {},
   "outputs": [
    {
     "name": "stdout",
     "output_type": "stream",
     "text": [
      "Среднее арифметическое: 65.3\n",
      "Cреднее квадратическое отклонение: 30.8\n",
      "Смещённая оценка дисперсии: 950\n",
      "Несмещённая оценка дисперсии: 1000\n"
     ]
    }
   ],
   "source": [
    "data = [100, 80, 75, 77, 89, 33, 45, 25, 65, 17, 30, 24, 57, 55, 70, 75, 65, 84, 90, 150]\n",
    "\n",
    "def q(data):\n",
    "    for i in data:\n",
    "        yield (i - data_mean) ** 2\n",
    "\n",
    "# среднее арифметическое:\n",
    "data_mean = sum(data) / len(data)\n",
    "\n",
    "# среднее квадратическое отклонение:\n",
    "data_std = round(np.sqrt(sum(q(data)) / len(data)), 1)\n",
    "\n",
    "# дисперсия:\n",
    "# 1. смещённая оценка дисперсии:\n",
    "data_variance_1 = round(sum(q(data)) / len(data))\n",
    "\n",
    "# 2. несмещённая оценка дисперсии:\n",
    "data_variance_2 = round(sum(q(data)) / (len(data) - 1))\n",
    "\n",
    "print(f\"Среднее арифметическое: {data_mean}\" + '\\n' + f\"Cреднее квадратическое отклонение: {data_std}\" + '\\n' +\n",
    "      f\"Смещённая оценка дисперсии: {data_variance_1}\" + '\\n' + f\"Несмещённая оценка дисперсии: {data_variance_2}\")"
   ]
  },
  {
   "cell_type": "markdown",
   "metadata": {},
   "source": [
    "#### Задача №2"
   ]
  },
  {
   "cell_type": "code",
   "execution_count": 18,
   "metadata": {},
   "outputs": [
    {
     "name": "stdout",
     "output_type": "stream",
     "text": [
      "Вероятность получения 3-х белых шаров составляет 37 %\n"
     ]
    }
   ],
   "source": [
    "n_1, m_1, k_1 = 8, 5, 2\n",
    "n_2, m_2, k_2 = 12, 5, 4\n",
    "\n",
    "def combinations(k, n):\n",
    "    return int(factorial(n) / (factorial(k) * factorial(n - k)))\n",
    "\n",
    "# общее число возможных элементарных исходов:\n",
    "C_1 = combinations(k_1, n_1) # для 1-го ящика\n",
    "C_2 = combinations(k_2, n_2) # для 2-го ящика\n",
    "\n",
    "# общее число благориятствующих элементарных исходов:\n",
    "# 1. 2 белых из 1-го ящика И 1 белый из 2-го ящика;\n",
    "# ИЛИ\n",
    "# 2. 1 белый из 1-го ящика И 2 белых из 2-го ящика;\n",
    "# ИЛИ\n",
    "# 3. 0 белых из 1-го ящика И 3 белых из 2-го ящика.\n",
    "\n",
    "x_1 = [2, 1, 0] # кол-во белых шаров в трёх возможных случаях для 1-го ящика\n",
    "x_2 = [1, 2, 3] # кол-во белых шаров в трёх возможных случаях для 2-го ящика\n",
    "\n",
    "P = 0\n",
    "for i in range(0, 3):\n",
    "    C_i_1 = combinations(x_1[i], m_1) * combinations(k_1 - x_1[i], n_1 - m_1) / C_1\n",
    "    C_i_2 = combinations(x_2[i], m_2) * combinations(k_2 - x_2[i], n_2 - m_2) / C_2\n",
    "    P_i = C_i_1 * C_i_2\n",
    "    P += P_i\n",
    "\n",
    "print(f\"Вероятность получения 3-х белых шаров составляет {round(P * 100,)} %\")"
   ]
  },
  {
   "cell_type": "markdown",
   "metadata": {},
   "source": [
    "#### Задача №3"
   ]
  },
  {
   "cell_type": "code",
   "execution_count": 19,
   "metadata": {},
   "outputs": [
    {
     "name": "stdout",
     "output_type": "stream",
     "text": [
      "Вероятность выстрела биатлонистом № 1 составляет 39 %\n",
      "Вероятность выстрела биатлонистом № 2 составляет 35 %\n",
      "Вероятность выстрела биатлонистом № 3 составляет 26 %\n"
     ]
    }
   ],
   "source": [
    "p = [0.9, 0.8, 0.6]\n",
    "\n",
    "for i in range(0, 3):\n",
    "    print(f\"Вероятность выстрела биатлонистом № {i + 1} составляет {round((p[i] / sum(p)) * 100,)} %\")"
   ]
  },
  {
   "cell_type": "markdown",
   "metadata": {},
   "source": [
    "#### Задача №4"
   ]
  },
  {
   "cell_type": "code",
   "execution_count": 20,
   "metadata": {},
   "outputs": [
    {
     "name": "stdout",
     "output_type": "stream",
     "text": [
      "Вероятность сдачи сессии студентом факультета A составляет 24 %\n",
      "Вероятность сдачи сессии студентом факультета B составляет 21 %\n",
      "Вероятность сдачи сессии студентом факультета C составляет 55 %\n"
     ]
    }
   ],
   "source": [
    "p = [0.8, 0.7, 0.9]\n",
    "f = ['A', 'B', 'C']\n",
    "a = [0.25, 0.25, 0.5]\n",
    "\n",
    "for i in range(0, 3):\n",
    "    print(f\"Вероятность сдачи сессии студентом факультета {f[i]}\" \n",
    "          f\" составляет {round((p[i] * a[i] / sum(list(map(lambda x, y: x * y, p, a)))) * 100,)} %\")"
   ]
  },
  {
   "cell_type": "markdown",
   "metadata": {},
   "source": [
    "#### Задача №5"
   ]
  },
  {
   "cell_type": "code",
   "execution_count": 22,
   "metadata": {},
   "outputs": [
    {
     "name": "stdout",
     "output_type": "stream",
     "text": [
      "Вероятность выхода из строя всех деталей в первый месяц составляет 0.5 %\n",
      "Вероятность выхода из строя только двух деталей в первый месяц составляет 9.2 %\n",
      "Вероятность выхода из строя хотя бы одной детали в первый месяц составляет 45.0 %\n",
      "Вероятность выхода из строя от одной до двух деталей в первый месяц составляет 50.1 %\n"
     ]
    }
   ],
   "source": [
    "# совместные события\n",
    "\n",
    "p = [0.1, 0.2, 0.25]\n",
    "\n",
    "p_1 = p[0] * p[1] * p[2]\n",
    "\n",
    "p_2 = p[0] * p[1] + p[1] * p[2] + p[2] * p[0] - p[0] * p[1] **2 * p[2] - p[1] * p[2] **2 * p[0] - p[2] * p[0] **2 * p[1] - (p[0] * p[1] * p[2]) **2\n",
    "\n",
    "p_3 = p[0] + p[1] + p[2] - p[0] * p[1] - p[1] * p[2] - p[2] * p[0] - p[0] * p[1] * p[2]\n",
    "\n",
    "p_4 = p_2 + p_3 - p_2 * p_3\n",
    "\n",
    "print(f\"Вероятность выхода из строя всех деталей в первый месяц составляет {round(p_1 * 100, 1)} %\" + '\\n' + \n",
    "      f\"Вероятность выхода из строя только двух деталей в первый месяц составляет {round(p_2 * 100, 1)} %\" + '\\n' + \n",
    "      f\"Вероятность выхода из строя хотя бы одной детали в первый месяц составляет {round(p_3 * 100, 1)} %\" + '\\n' + \n",
    "      f\"Вероятность выхода из строя от одной до двух деталей в первый месяц составляет {round(p_4 * 100, 1)} %\")"
   ]
  },
  {
   "cell_type": "code",
   "execution_count": null,
   "metadata": {},
   "outputs": [],
   "source": []
  },
  {
   "cell_type": "code",
   "execution_count": null,
   "metadata": {},
   "outputs": [],
   "source": []
  }
 ],
 "metadata": {
  "kernelspec": {
   "display_name": "Python 3",
   "language": "python",
   "name": "python3"
  },
  "language_info": {
   "codemirror_mode": {
    "name": "ipython",
    "version": 3
   },
   "file_extension": ".py",
   "mimetype": "text/x-python",
   "name": "python",
   "nbconvert_exporter": "python",
   "pygments_lexer": "ipython3",
   "version": "3.8.5"
  }
 },
 "nbformat": 4,
 "nbformat_minor": 4
}
